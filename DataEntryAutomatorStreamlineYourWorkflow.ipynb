{
  "nbformat": 4,
  "nbformat_minor": 0,
  "metadata": {
    "colab": {
      "provenance": [],
      "authorship_tag": "ABX9TyMa/dYWDRgMe+tetaGI5C9v",
      "include_colab_link": true
    },
    "kernelspec": {
      "name": "python3",
      "display_name": "Python 3"
    },
    "language_info": {
      "name": "python"
    }
  },
  "cells": [
    {
      "cell_type": "markdown",
      "metadata": {
        "id": "view-in-github",
        "colab_type": "text"
      },
      "source": [
        "<a href=\"https://colab.research.google.com/github/rustkas/Google-Colab-Python/blob/main/DataEntryAutomatorStreamlineYourWorkflow.ipynb\" target=\"_parent\"><img src=\"https://colab.research.google.com/assets/colab-badge.svg\" alt=\"Open In Colab\"/></a>"
      ]
    },
    {
      "cell_type": "code",
      "execution_count": 2,
      "metadata": {
        "colab": {
          "base_uri": "https://localhost:8080/"
        },
        "id": "gX3AyD0Kjmw5",
        "outputId": "4845ae67-e7db-4612-cf4c-e8d606150baf"
      },
      "outputs": [
        {
          "output_type": "stream",
          "name": "stdout",
          "text": [
            "Data entry completed successfully.\n"
          ]
        }
      ],
      "source": [
        "import pandas as pd\n",
        "\n",
        "def automate_data_entry(data, file_path):\n",
        "  try:\n",
        "    try:\n",
        "      existing_data = pd.read_csv(file_path)\n",
        "    except FileNotFoundError:\n",
        "      existing_data = pd.DataFrame()\n",
        "\n",
        "    new_data = pd.DataFrame(data)\n",
        "    combined_data = pd.concat([existing_data, new_data], ignore_index=True)\n",
        "    combined_data.to_csv(file_path, index=False)\n",
        "    print(\"Data entry completed successfully.\")\n",
        "  except Exception as e:\n",
        "    print(f\"an error occurred: {e}\")\n",
        "\n",
        "\n",
        "data_to_enter = [\n",
        "    {'name': 'Alice', 'age': 30, 'city': 'New York'},\n",
        "    {'name': 'Bob', 'age': 32, 'city': 'San Francisco'},\n",
        "    {'name': 'Charlie', 'age': 35, 'city': 'Los Angeles'}\n",
        "]\n",
        "\n",
        "csv_file_path = 'data.cvs'\n",
        "automate_data_entry(data_to_enter, csv_file_path)"
      ]
    }
  ]
}