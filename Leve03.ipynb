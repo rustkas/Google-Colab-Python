{
  "nbformat": 4,
  "nbformat_minor": 0,
  "metadata": {
    "colab": {
      "provenance": [],
      "authorship_tag": "ABX9TyNmNLexSV/QaY4kVZ2VLTJp",
      "include_colab_link": true
    },
    "kernelspec": {
      "name": "python3",
      "display_name": "Python 3"
    },
    "language_info": {
      "name": "python"
    }
  },
  "cells": [
    {
      "cell_type": "markdown",
      "metadata": {
        "id": "view-in-github",
        "colab_type": "text"
      },
      "source": [
        "<a href=\"https://colab.research.google.com/github/rustkas/Google-Colab-Python/blob/main/Leve03.ipynb\" target=\"_parent\"><img src=\"https://colab.research.google.com/assets/colab-badge.svg\" alt=\"Open In Colab\"/></a>"
      ]
    },
    {
      "cell_type": "code",
      "execution_count": 2,
      "metadata": {
        "colab": {
          "base_uri": "https://localhost:8080/"
        },
        "id": "DfFeyo3jrNie",
        "outputId": "1a0c877c-7549-4c3a-98d0-320f710576cd"
      },
      "outputs": [
        {
          "output_type": "stream",
          "name": "stdout",
          "text": [
            "5.2\n"
          ]
        }
      ],
      "source": [
        "ahsoka_height = float(1.7)\n",
        "yoda_height = float(0.66)\n",
        "r2d2_height = float(1.09)\n",
        "c3po_height = float(1.75)\n",
        "print((ahsoka_height + yoda_height + r2d2_height + c3po_height))"
      ]
    },
    {
      "cell_type": "code",
      "source": [
        "name = \"Yoda\"\n",
        "print(\"Your name is \" + name)\n",
        "height = 0.66\n",
        "age = 90\n",
        "print(\"Your name, height and age is: \" + name + \", \" + str(height) + \" and age is \" + str(age))\n",
        "print(type(name))\n",
        "print(type(height))\n",
        "print(type(age))"
      ],
      "metadata": {
        "colab": {
          "base_uri": "https://localhost:8080/"
        },
        "id": "zomYXhkMr9KA",
        "outputId": "e8251b00-3a96-4ef5-928a-ca180513ad2b"
      },
      "execution_count": 7,
      "outputs": [
        {
          "output_type": "stream",
          "name": "stdout",
          "text": [
            "Your name is Yoda\n",
            "Your name, height and age is: Yoda, 0.66 and age is 90\n",
            "<class 'str'>\n",
            "<class 'float'>\n",
            "<class 'int'>\n"
          ]
        }
      ]
    },
    {
      "cell_type": "code",
      "source": [
        "name1 = \"Jack\"\n",
        "name2 = \"Rose\"\n",
        "year = 1912\n",
        "print(name1 + \" and \" + name2 + \" were on the Titanic in \" + str(year))"
      ],
      "metadata": {
        "colab": {
          "base_uri": "https://localhost:8080/"
        },
        "id": "KPO1JtDftBMP",
        "outputId": "15a5ed81-9161-4ece-b95d-c03f7c15b2c3"
      },
      "execution_count": 8,
      "outputs": [
        {
          "output_type": "stream",
          "name": "stdout",
          "text": [
            "Jack Rose were on the Titanic in 1912\n"
          ]
        }
      ]
    },
    {
      "cell_type": "code",
      "source": [
        "prinncipal=1000 # this is the initial amount in USD\n",
        "rate =5 # annual interest rate in percentage\n",
        "time =2 # in years\n",
        "simpe_interest = prinncipal * rate * time /100\n",
        "\n",
        "print(\"With a principal amount of \"+ str(prinncipal) + \" USD, at an annual interest rate of \"+str(rate)+\"%, in \"+ str(time)+\" years will earn \"+ str(simpe_interest) + \" USD in interest.\")"
      ],
      "metadata": {
        "colab": {
          "base_uri": "https://localhost:8080/"
        },
        "id": "vYHGURs_toF4",
        "outputId": "86cb5459-bf9f-4209-84d0-1d0c3fdcc627"
      },
      "execution_count": 11,
      "outputs": [
        {
          "output_type": "stream",
          "name": "stdout",
          "text": [
            "With a principal amount of 1000USD, at an annual interest rate of 5%, in 2 years will earn 100.0 USD in interest.\n"
          ]
        }
      ]
    }
  ]
}