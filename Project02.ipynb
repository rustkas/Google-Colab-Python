{
  "nbformat": 4,
  "nbformat_minor": 0,
  "metadata": {
    "colab": {
      "provenance": [],
      "authorship_tag": "ABX9TyNfipPs0w0a7FzqKNyflBgO",
      "include_colab_link": true
    },
    "kernelspec": {
      "name": "python3",
      "display_name": "Python 3"
    },
    "language_info": {
      "name": "python"
    }
  },
  "cells": [
    {
      "cell_type": "markdown",
      "metadata": {
        "id": "view-in-github",
        "colab_type": "text"
      },
      "source": [
        "<a href=\"https://colab.research.google.com/github/rustkas/Google-Colab-Python/blob/main/Project02.ipynb\" target=\"_parent\"><img src=\"https://colab.research.google.com/assets/colab-badge.svg\" alt=\"Open In Colab\"/></a>"
      ]
    },
    {
      "cell_type": "code",
      "execution_count": 7,
      "metadata": {
        "colab": {
          "base_uri": "https://localhost:8080/"
        },
        "id": "q-F7OM9iWmPC",
        "outputId": "5bce6bc5-41f9-4f40-bf9b-4503bd015d67"
      },
      "outputs": [
        {
          "output_type": "stream",
          "name": "stdout",
          "text": [
            "Mr. Skywalker\n",
            "44\n"
          ]
        },
        {
          "output_type": "execute_result",
          "data": {
            "text/plain": [
              "int"
            ]
          },
          "metadata": {},
          "execution_count": 7
        }
      ],
      "source": [
        "name = \"Mr. Skywalker\"\n",
        "name = 'Mr. Skywalker'\n",
        "name = str('Mr. Skywalker')\n",
        "# name = STR('Mr. Skywalker')\n",
        "# name = int('Mr. Skywalker')\n",
        "age = 44\n",
        "age = int(44)\n",
        "print(name)\n",
        "type(name)\n",
        "# print(age)\n",
        "# type(age)"
      ]
    },
    {
      "cell_type": "code",
      "source": [
        "name = str(\"Dart Vader\")\n",
        "print(name)\n",
        "age = int(19)\n",
        "print(age)"
      ],
      "metadata": {
        "colab": {
          "base_uri": "https://localhost:8080/"
        },
        "id": "xe4GCT7LewFC",
        "outputId": "97cdaaff-cc71-4450-de93-a65f28aae22a"
      },
      "execution_count": 9,
      "outputs": [
        {
          "output_type": "stream",
          "name": "stdout",
          "text": [
            "Dart Vader\n",
            "19\n"
          ]
        }
      ]
    },
    {
      "cell_type": "code",
      "source": [
        "pi = 3.14\n",
        "print(pi)\n",
        "type(pi)"
      ],
      "metadata": {
        "colab": {
          "base_uri": "https://localhost:8080/"
        },
        "id": "9PKZnCOcfC-L",
        "outputId": "7023e29e-0243-4363-d2bb-ca93b6ad94c5"
      },
      "execution_count": 13,
      "outputs": [
        {
          "output_type": "stream",
          "name": "stdout",
          "text": [
            "3.14\n"
          ]
        },
        {
          "output_type": "execute_result",
          "data": {
            "text/plain": [
              "float"
            ]
          },
          "metadata": {},
          "execution_count": 13
        }
      ]
    },
    {
      "cell_type": "code",
      "source": [
        "bool_example = bool(0)\n",
        "print(bool_example)\n",
        "type(bool_example)"
      ],
      "metadata": {
        "colab": {
          "base_uri": "https://localhost:8080/"
        },
        "id": "yFPP0QY3f7Cu",
        "outputId": "2472cb06-cae1-4f8b-a991-baae55948a6c"
      },
      "execution_count": 18,
      "outputs": [
        {
          "output_type": "stream",
          "name": "stdout",
          "text": [
            "False\n"
          ]
        },
        {
          "output_type": "execute_result",
          "data": {
            "text/plain": [
              "bool"
            ]
          },
          "metadata": {},
          "execution_count": 18
        }
      ]
    },
    {
      "cell_type": "code",
      "source": [
        "i_cannot_do_it = bool(False)\n",
        "print(i_cannot_do_it)\n",
        "type(i_cannot_do_it)\n",
        "the_answer= 42.01\n",
        "print(the_answer)\n",
        "type(the_answer)"
      ],
      "metadata": {
        "colab": {
          "base_uri": "https://localhost:8080/"
        },
        "id": "MrdZRfO7ghaK",
        "outputId": "a4f2054f-b64a-4818-a907-ac583fa3cebf"
      },
      "execution_count": 19,
      "outputs": [
        {
          "output_type": "stream",
          "name": "stdout",
          "text": [
            "False\n",
            "42.01\n"
          ]
        },
        {
          "output_type": "execute_result",
          "data": {
            "text/plain": [
              "float"
            ]
          },
          "metadata": {},
          "execution_count": 19
        }
      ]
    },
    {
      "cell_type": "code",
      "source": [
        "name=\"Darth Vader\"\n",
        "print(name)\n",
        "name = str(\"Mr. Skywalker\")\n",
        "print(name)"
      ],
      "metadata": {
        "colab": {
          "base_uri": "https://localhost:8080/"
        },
        "id": "Y7geDOl2gwRd",
        "outputId": "e6a30dd6-f0d7-4e58-ec53-305da02f21e4"
      },
      "execution_count": 20,
      "outputs": [
        {
          "output_type": "stream",
          "name": "stdout",
          "text": [
            "Darth Vader\n",
            "Mr. Skywalker\n"
          ]
        }
      ]
    }
  ]
}