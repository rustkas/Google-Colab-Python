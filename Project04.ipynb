{
  "nbformat": 4,
  "nbformat_minor": 0,
  "metadata": {
    "colab": {
      "provenance": [],
      "authorship_tag": "ABX9TyOul5Cx2zp6k/sCMbf+xBm+",
      "include_colab_link": true
    },
    "kernelspec": {
      "name": "python3",
      "display_name": "Python 3"
    },
    "language_info": {
      "name": "python"
    }
  },
  "cells": [
    {
      "cell_type": "markdown",
      "metadata": {
        "id": "view-in-github",
        "colab_type": "text"
      },
      "source": [
        "<a href=\"https://colab.research.google.com/github/rustkas/Google-Colab-Python/blob/main/Project04.ipynb\" target=\"_parent\"><img src=\"https://colab.research.google.com/assets/colab-badge.svg\" alt=\"Open In Colab\"/></a>"
      ]
    },
    {
      "cell_type": "code",
      "execution_count": null,
      "metadata": {
        "colab": {
          "base_uri": "https://localhost:8080/"
        },
        "id": "mv8WZsDIxn1m",
        "outputId": "a127be2f-58a9-47d5-b2e0-1cd5c1252cd8"
      },
      "outputs": [
        {
          "output_type": "stream",
          "name": "stdout",
          "text": [
            "1\n",
            "3\n"
          ]
        }
      ],
      "source": [
        "a=1\n",
        "b=2\n",
        "c=3\n",
        "minimum_value = min(a,b,c)\n",
        "print(minimum_value)\n",
        "\n",
        "maximum_value = max(a,b,c)\n",
        "print(maximum_value)"
      ]
    },
    {
      "cell_type": "code",
      "source": [
        "def age_of_rey():\n",
        "  the_age = input(\"How old are you?\")\n",
        "  print(the_age)\n",
        "\n",
        "age_of_rey()\n"
      ],
      "metadata": {
        "colab": {
          "base_uri": "https://localhost:8080/"
        },
        "id": "EneVz1w45MUj",
        "outputId": "bc0acb31-3633-46ed-ce2e-028296544f11"
      },
      "execution_count": null,
      "outputs": [
        {
          "output_type": "stream",
          "name": "stdout",
          "text": [
            "How old are you?45\n",
            "45\n"
          ]
        }
      ]
    },
    {
      "cell_type": "code",
      "source": [],
      "metadata": {
        "id": "MdM6ER695dIQ"
      },
      "execution_count": null,
      "outputs": []
    },
    {
      "cell_type": "code",
      "source": [
        "loe = [20,30]\n",
        "print(type(loe))\n",
        "sum_of_list = sum(loe)\n",
        "print(sum_of_list)"
      ],
      "metadata": {
        "colab": {
          "base_uri": "https://localhost:8080/"
        },
        "id": "k_a8V8A7-43H",
        "outputId": "9975c70f-8da0-41e6-9ad9-19bf51658f8c"
      },
      "execution_count": null,
      "outputs": [
        {
          "output_type": "stream",
          "name": "stdout",
          "text": [
            "<class 'list'>\n",
            "50\n"
          ]
        }
      ]
    },
    {
      "cell_type": "code",
      "source": [
        "name = input(\"What is the name of the Star Wars character?\")\n",
        "jedi_test = input(\"Is the character holding a lightsabe?\")\n",
        "\n",
        "if jedi_test == \"Yes\":\n",
        "  print(name + \" is a Jedi\")\n",
        "else:\n",
        "  print(name + \" is not a Jedi\")"
      ],
      "metadata": {
        "colab": {
          "base_uri": "https://localhost:8080/"
        },
        "id": "h1ohUsIDJGXu",
        "outputId": "623eef09-9822-49f0-b998-9125d03df744"
      },
      "execution_count": null,
      "outputs": [
        {
          "output_type": "stream",
          "name": "stdout",
          "text": [
            "What is the name of the Star Wars character?Halk\n",
            "Is the character holding a lightsabe?true\n",
            "Halk is a Jedi\n"
          ]
        }
      ]
    },
    {
      "cell_type": "code",
      "source": [
        "full_name= \"James Bond\"\n",
        "first_name = full_name[0:5]\n",
        "print(first_name)\n",
        "last_name = full_name[6:]\n",
        "print(last_name)\n",
        "print(f\"The name is {first_name} {last_name}\")"
      ],
      "metadata": {
        "colab": {
          "base_uri": "https://localhost:8080/"
        },
        "id": "w8FzVry1jovm",
        "outputId": "9fb81c79-9e2e-4335-848d-ba69f72f934d"
      },
      "execution_count": null,
      "outputs": [
        {
          "output_type": "stream",
          "name": "stdout",
          "text": [
            "James\n",
            "Bond\n"
          ]
        }
      ]
    },
    {
      "cell_type": "code",
      "source": [
        "allegiances = {\n",
        "    \"Luka Skywalker\": \"Rebel Alliance\",\n",
        "    \"Dart Vader\": \"Galactic Empire\",\n",
        "    \"Obi-Wan Kenobi\": \"Jedi Order\"\n",
        "}\n",
        "\n",
        "print(allegiances)\n"
      ],
      "metadata": {
        "colab": {
          "base_uri": "https://localhost:8080/"
        },
        "id": "uQml4jqz4Ek7",
        "outputId": "d73f1d3b-156b-4f7c-9095-8e6c294782e9"
      },
      "execution_count": 6,
      "outputs": [
        {
          "output_type": "stream",
          "name": "stdout",
          "text": [
            "{'Luka Skywalker': 'Rebel Alliance', 'Dart Vader': 'Galactic Empire', 'Obi-Wan Kenobi': 'Jedi Order'}\n"
          ]
        }
      ]
    },
    {
      "cell_type": "code",
      "source": [
        "print(allegiances[\"Dart Vader\"])"
      ],
      "metadata": {
        "id": "MXA1QG8W4Zdk"
      },
      "execution_count": null,
      "outputs": []
    },
    {
      "cell_type": "code",
      "source": [
        "allegiances[\"Darth Vader\"] = \"Sith Order\"\n",
        "print(allegiances)"
      ],
      "metadata": {
        "colab": {
          "base_uri": "https://localhost:8080/"
        },
        "id": "mNGAwWhl4g9B",
        "outputId": "3d6d16a1-0ca5-460b-e860-7912cdf333ae"
      },
      "execution_count": 7,
      "outputs": [
        {
          "output_type": "stream",
          "name": "stdout",
          "text": [
            "{'Luka Skywalker': 'Rebel Alliance', 'Dart Vader': 'Galactic Empire', 'Obi-Wan Kenobi': 'Jedi Order', 'Darth Vader': 'Sith Order'}\n"
          ]
        }
      ]
    },
    {
      "cell_type": "code",
      "source": [
        "allegiances[\"Leia\"] = \"Rebel Alliance\""
      ],
      "metadata": {
        "id": "1aPnAfaq4uHY"
      },
      "execution_count": null,
      "outputs": []
    },
    {
      "cell_type": "code",
      "source": [
        "list(map(lambda x: x**2, [1,2,3,4]))"
      ],
      "metadata": {
        "colab": {
          "base_uri": "https://localhost:8080/"
        },
        "id": "ECslOega9Xc2",
        "outputId": "c1a90681-d406-431b-f41b-ddc7e89d26d8"
      },
      "execution_count": 10,
      "outputs": [
        {
          "output_type": "execute_result",
          "data": {
            "text/plain": [
              "[1, 4, 9, 16]"
            ]
          },
          "metadata": {},
          "execution_count": 10
        }
      ]
    },
    {
      "cell_type": "code",
      "source": [
        "class Dog():\n",
        "  def __init__(self) -> None:\n",
        "    print(\"Hey! I am a doc! :)\")\n",
        "\n",
        "dog1 = Dog()\n",
        "dog2 = Dog()\n",
        "\n",
        "print(dog1)\n",
        "print(dog2)"
      ],
      "metadata": {
        "colab": {
          "base_uri": "https://localhost:8080/"
        },
        "id": "cloGwuXhB3ZR",
        "outputId": "5822c8e5-e2ac-418a-ea58-6feb5faf06fe"
      },
      "execution_count": 16,
      "outputs": [
        {
          "output_type": "stream",
          "name": "stdout",
          "text": [
            "Hey! I am a doc! :)\n",
            "Hey! I am a doc! :)\n",
            "<__main__.Dog object at 0x7e353e519e10>\n",
            "<__main__.Dog object at 0x7e353e518730>\n"
          ]
        }
      ]
    },
    {
      "cell_type": "code",
      "source": [
        "class Person:\n",
        "  def __init__(self, name, age):\n",
        "    print(f\"My name is {name}, And I am this old: {age}\")\n",
        "person1 = Person(\"John Doe\", 55)"
      ],
      "metadata": {
        "colab": {
          "base_uri": "https://localhost:8080/"
        },
        "id": "KIQy98vKB7gF",
        "outputId": "683ed2a8-ae5d-4063-cc76-5b1ef6e64b98"
      },
      "execution_count": 17,
      "outputs": [
        {
          "output_type": "stream",
          "name": "stdout",
          "text": [
            "My name is John Doe, And I am this old: 55\n"
          ]
        }
      ]
    }
  ]
}