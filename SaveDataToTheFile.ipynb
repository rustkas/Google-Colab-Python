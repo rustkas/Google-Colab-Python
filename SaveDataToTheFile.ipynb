{
  "nbformat": 4,
  "nbformat_minor": 0,
  "metadata": {
    "colab": {
      "provenance": [],
      "authorship_tag": "ABX9TyOY8rI9j0NAwkGRH51vtzMn",
      "include_colab_link": true
    },
    "kernelspec": {
      "name": "python3",
      "display_name": "Python 3"
    },
    "language_info": {
      "name": "python"
    }
  },
  "cells": [
    {
      "cell_type": "markdown",
      "metadata": {
        "id": "view-in-github",
        "colab_type": "text"
      },
      "source": [
        "<a href=\"https://colab.research.google.com/github/rustkas/Google-Colab-Python/blob/main/SaveDataToTheFile.ipynb\" target=\"_parent\"><img src=\"https://colab.research.google.com/assets/colab-badge.svg\" alt=\"Open In Colab\"/></a>"
      ]
    },
    {
      "cell_type": "code",
      "execution_count": 2,
      "metadata": {
        "colab": {
          "base_uri": "https://localhost:8080/"
        },
        "id": "uGSTjx__0w6g",
        "outputId": "7a36a017-fb11-4a48-fd0b-b2dd3ecadc7a"
      },
      "outputs": [
        {
          "output_type": "stream",
          "name": "stdout",
          "text": [
            "Please enter your name: Max\n",
            "Hello, Max!\n"
          ]
        }
      ],
      "source": [
        "my_name = input('Please enter your name: ')\n",
        "print('Hello, ' + my_name + '!')\n",
        "file = open('name.txt',mode='w')\n",
        "file.write(my_name)\n",
        "file.close()\n"
      ]
    }
  ]
}